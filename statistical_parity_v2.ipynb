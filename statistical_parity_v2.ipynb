{
  "nbformat": 4,
  "nbformat_minor": 0,
  "metadata": {
    "colab": {
      "provenance": []
    },
    "kernelspec": {
      "name": "python3",
      "display_name": "Python 3"
    },
    "language_info": {
      "name": "python"
    }
  },
  "cells": [
    {
      "cell_type": "code",
      "source": [
        "from google.colab import drive\n",
        "drive.mount('/content/drive')"
      ],
      "metadata": {
        "colab": {
          "base_uri": "https://localhost:8080/"
        },
        "id": "1VtX-xuFxASR",
        "outputId": "570249c8-0942-4133-f4cd-45f373f396d7"
      },
      "execution_count": 3,
      "outputs": [
        {
          "output_type": "stream",
          "name": "stdout",
          "text": [
            "Drive already mounted at /content/drive; to attempt to forcibly remount, call drive.mount(\"/content/drive\", force_remount=True).\n"
          ]
        }
      ]
    },
    {
      "cell_type": "markdown",
      "source": [
        "**Statistical Parity for Country**"
      ],
      "metadata": {
        "id": "AsZr-pVAxhxb"
      }
    },
    {
      "cell_type": "code",
      "execution_count": 4,
      "metadata": {
        "colab": {
          "base_uri": "https://localhost:8080/"
        },
        "id": "RYiBOMw-w9l_",
        "outputId": "64274083-e0b6-497b-d5a5-fcbd5829d8bb"
      },
      "outputs": [
        {
          "output_type": "stream",
          "name": "stdout",
          "text": [
            "country\n",
            "USA                     325\n",
            "UK                       34\n",
            "South Korea              32\n",
            "Japan                    23\n",
            "France                   14\n",
            "United States            13\n",
            "Italy                    11\n",
            "Australia                10\n",
            "South Africa              9\n",
            "New Zealand               8\n",
            "Sweden                    8\n",
            "United Kingdom            6\n",
            "Soviet Union              5\n",
            "China                     5\n",
            "Mexico                    5\n",
            "West Germany              5\n",
            "Indonesia                 5\n",
            "Hong Kong                 5\n",
            "Spain                     4\n",
            "USSR                      3\n",
            "North Macedonia           3\n",
            "Iran                      2\n",
            "USA/Germany/UK            2\n",
            "Denmark/Norway/UK         2\n",
            "Netherlands               2\n",
            "Denmark                   2\n",
            "USA/UK                    1\n",
            "USA/Canada/UK/Brazil      1\n",
            "India                     1\n",
            "Romania                   1\n",
            "Denmark, Norway, UK       1\n",
            "USA/Japan                 1\n",
            "Brazil                    1\n",
            "Name: count, dtype: int64\n",
            "\n",
            "Percentage of USA: 59.09%\n"
          ]
        }
      ],
      "source": [
        "import pandas as pd\n",
        "\n",
        "df = pd.read_csv(\"/content/drive/MyDrive/AI_ETHICS/jsons/combined_movies_english_v2.csv\")\n",
        "country_counts = df['country'].value_counts()\n",
        "\n",
        "print(country_counts)\n",
        "percentage_usa = country_counts['USA'] / country_counts.sum() * 100\n",
        "print(f\"\\nPercentage of USA: {format(percentage_usa, '.2f')}%\")"
      ]
    },
    {
      "cell_type": "code",
      "source": [
        "df = pd.read_csv(\"/content/drive/MyDrive/AI_ETHICS/jsons/combined_movies_turkish_v2.csv\")\n",
        "country_counts = df['country'].value_counts()\n",
        "\n",
        "print(country_counts)\n",
        "percentage_usa = country_counts['ABD'] / country_counts.sum() * 100\n",
        "print(f\"\\nPercentage of ABD: {format(percentage_usa, '.2f')}%\")"
      ],
      "metadata": {
        "colab": {
          "base_uri": "https://localhost:8080/"
        },
        "id": "0Sl1nsMnxQdI",
        "outputId": "e1c4e65b-4313-4bb2-dd16-4882b44f9f63"
      },
      "execution_count": 5,
      "outputs": [
        {
          "output_type": "stream",
          "name": "stdout",
          "text": [
            "country\n",
            "ABD                             296\n",
            "ABD, İngiltere                   29\n",
            "Birleşik Krallık                 18\n",
            "Güney Kore                       12\n",
            "Amerika Birleşik Devletleri      11\n",
            "                               ... \n",
            "İspanya, ABD                      1\n",
            "Kanada                            1\n",
            "ABD, Almanya, İngiltere           1\n",
            "Danimarka, Norveç, İngiltere      1\n",
            "İsveç, İngiltere                  1\n",
            "Name: count, Length: 63, dtype: int64\n",
            "\n",
            "Percentage of ABD: 53.82%\n"
          ]
        }
      ]
    },
    {
      "cell_type": "code",
      "source": [
        "df = pd.read_csv(\"/content/drive/MyDrive/AI_ETHICS/jsons/combined_movies_italian_v2.csv\")\n",
        "country_counts = df['country'].value_counts()\n",
        "\n",
        "print(country_counts)\n",
        "percentage_usa = country_counts['USA'] / country_counts.sum() * 100\n",
        "print(f\"\\nPercentage of USA: {format(percentage_usa, '.2f')}%\")"
      ],
      "metadata": {
        "colab": {
          "base_uri": "https://localhost:8080/"
        },
        "id": "uXEo3-PbxmlT",
        "outputId": "3bbebf73-771b-492e-b627-5103e857fccc"
      },
      "execution_count": 6,
      "outputs": [
        {
          "output_type": "stream",
          "name": "stdout",
          "text": [
            "country\n",
            "USA                               294\n",
            "Stati Uniti                        52\n",
            "Corea del Sud                      18\n",
            "Regno Unito                        15\n",
            "UK                                 15\n",
            "Italia                             13\n",
            "Australia                          12\n",
            "USA, UK                             9\n",
            "South Korea                         8\n",
            "Francia                             7\n",
            "Hong Kong                           6\n",
            "Italy                               5\n",
            "Indonesia                           5\n",
            "Giappone                            5\n",
            "Soviet Union                        5\n",
            "Denmark, Norway, UK                 5\n",
            "China                               4\n",
            "Regno Unito/USA                     4\n",
            "Danimarca                           4\n",
            "France                              4\n",
            "USSR                                4\n",
            "USA, Regno Unito                    4\n",
            "Japan                               3\n",
            "Sweden, UK                          3\n",
            "Regno Unito, Stati Uniti            3\n",
            "South Africa                        3\n",
            "UK, USA                             3\n",
            "Spagna                              3\n",
            "Spain                               3\n",
            "Nuova Zelanda, USA                  2\n",
            "Germania Ovest                      2\n",
            "Nuova Zelanda                       2\n",
            "Messico, Spagna                     2\n",
            "Spagna, Messico                     1\n",
            "USA, Canada, UK, Brazil             1\n",
            "Italy, Spain, West Germany          1\n",
            "Germania Ovest, USA                 1\n",
            "North Macedonia                     1\n",
            "Spain, USA, France                  1\n",
            "USA, Australia                      1\n",
            "Sweden                              1\n",
            "Germany                             1\n",
            "Italia, USA                         1\n",
            "Germany, USA, UK                    1\n",
            "USA, Regno Unito, Canada            1\n",
            "USA, Japan                          1\n",
            "USA, Germania                       1\n",
            "Giordania                           1\n",
            "France, Switzerland, Italy, UK      1\n",
            "USA, Germany, UK                    1\n",
            "Germania Ovest/USA                  1\n",
            "Nuova Zelanda/USA                   1\n",
            "Spagna/Messico                      1\n",
            "Nuova Zelanda, Stati Uniti          1\n",
            "Germania Ovest, Stati Uniti         1\n",
            "USA, Canada                         1\n",
            "Name: count, dtype: int64\n",
            "\n",
            "Percentage of USA: 53.45%\n"
          ]
        }
      ]
    },
    {
      "cell_type": "code",
      "source": [
        "df = pd.read_csv(\"/content/drive/MyDrive/AI_ETHICS/jsons/combined_movies_persian_v2.csv\")\n",
        "language_counts = df['country'].value_counts()\n",
        "\n",
        "print(language_counts)"
      ],
      "metadata": {
        "colab": {
          "base_uri": "https://localhost:8080/"
        },
        "id": "KsVE6EjkxnKU",
        "outputId": "b752b907-7f8c-4773-c7a0-f683d099960d"
      },
      "execution_count": 7,
      "outputs": [
        {
          "output_type": "stream",
          "name": "stdout",
          "text": [
            "country\n",
            "USA                        245\n",
            "آمریکا                      59\n",
            "ایالات متحده آمریکا         36\n",
            "UK                          23\n",
            "South Korea                 15\n",
            "                          ... \n",
            "دانمارک، نروژ، بریتانیا      1\n",
            "بریتانیا، آمریکا             1\n",
            "کانادا، آمریکا               1\n",
            "نیوزیلند، ایالات متحده       1\n",
            "ایتالیا، فرانسه              1\n",
            "Name: count, Length: 65, dtype: int64\n"
          ]
        }
      ]
    },
    {
      "cell_type": "markdown",
      "source": [
        "**Statistical Parity for Language**"
      ],
      "metadata": {
        "id": "5vs7Lp7h0H9t"
      }
    },
    {
      "cell_type": "code",
      "source": [
        "import pandas as pd\n",
        "\n",
        "df = pd.read_csv(\"/content/drive/MyDrive/AI_ETHICS/jsons/combined_movies_english_v2.csv\")\n",
        "language_counts = df['language'].value_counts()\n",
        "\n",
        "print(language_counts)\n",
        "percentage_english = language_counts['English'] / language_counts.sum() * 100\n",
        "print(f\"\\nPercentage of English: {format(percentage_english, '.2f')}%\")"
      ],
      "metadata": {
        "colab": {
          "base_uri": "https://localhost:8080/"
        },
        "id": "IPb8EWzcx0xh",
        "outputId": "4288afd7-4dac-45c5-ae03-17a810d8da4e"
      },
      "execution_count": 8,
      "outputs": [
        {
          "output_type": "stream",
          "name": "stdout",
          "text": [
            "language\n",
            "English        420\n",
            "Korean          32\n",
            "Japanese        24\n",
            "French          14\n",
            "Indonesian      10\n",
            "Spanish          9\n",
            "Swedish          7\n",
            "Italian          6\n",
            "Mandarin         5\n",
            "Cantonese        5\n",
            "Russian          5\n",
            "Macedonian       3\n",
            "Persian          2\n",
            "Dutch            2\n",
            "Silent           1\n",
            "Telugu           1\n",
            "Romanian         1\n",
            "No dialogue      1\n",
            "No Dialogue      1\n",
            "Portuguese       1\n",
            "Name: count, dtype: int64\n",
            "\n",
            "Percentage of English: 76.36%\n"
          ]
        }
      ]
    },
    {
      "cell_type": "code",
      "source": [
        "df = pd.read_csv(\"/content/drive/MyDrive/AI_ETHICS/jsons/combined_movies_turkish_v2.csv\")\n",
        "language_counts = df['language'].value_counts()\n",
        "\n",
        "print(language_counts)\n",
        "percentage_english = language_counts['İngilizce'] / language_counts.sum() * 100\n",
        "print(f\"\\nPercentage of İngilizce: {format(percentage_english, '.2f')}%\")"
      ],
      "metadata": {
        "colab": {
          "base_uri": "https://localhost:8080/"
        },
        "id": "35k7NTQj0NlP",
        "outputId": "f58bf5a2-a2d6-45a6-8e83-849b6d4b1bf5"
      },
      "execution_count": 9,
      "outputs": [
        {
          "output_type": "stream",
          "name": "stdout",
          "text": [
            "language\n",
            "İngilizce                                   410\n",
            "İspanyolca                                   12\n",
            "Korece                                       12\n",
            "İtalyanca                                    11\n",
            "Fransızca                                     9\n",
            "Türkçe                                        8\n",
            "İngilizce, Japonca                            6\n",
            "Japonca                                       6\n",
            "Mandarin                                      5\n",
            "İngilizce, Sindarin                           5\n",
            "İngilizce, Almanca, İbranice, Lehçe           5\n",
            "Endonezce                                     4\n",
            "İngilizce, Japonca, Fransızca                 4\n",
            "İngilizce, Rusça                              4\n",
            "İngilizce, İtalyanca, Latince, Sicilyaca      3\n",
            "İngilizce, Fransızca                          3\n",
            "İngilizce, Almanca                            3\n",
            "Sessiz                                        3\n",
            "İngilizce, Almanca, İbranice                  3\n",
            "İngilizce, Afrikaanca, Xhosa                  2\n",
            "İngilizce, İtalyanca, Latince                 2\n",
            "İngilizce, Afrikaans                          2\n",
            "Endonezyaca, İngilizce                        2\n",
            "Portekizce                                    2\n",
            "Kantonca                                      2\n",
            "Rusça                                         2\n",
            "Endonezce, İngilizce                          2\n",
            "Çince                                         1\n",
            "İngilizce, Afrikaanca, IsiZulu                1\n",
            "İtalyanca, İngilizce                          1\n",
            "İngilizce, Fransızca, Almanca                 1\n",
            "İsveçce                                       1\n",
            "İngilizce, İsveççe                            1\n",
            "İtalyanca, Almanca                            1\n",
            "Rusça (sessiz)                                1\n",
            "İngilizce, Almanca, Rusça                     1\n",
            "İtalyanca, Almanca, İngilizce                 1\n",
            "İngilizce, Fransızca, İspanyolca              1\n",
            "Sessiz Film (Ara Yazılar İngilizce)           1\n",
            "Kantonca, İngilizce                           1\n",
            "Endonezyaca                                   1\n",
            "İngilizce, Afrikaanca, IsiXhosa               1\n",
            "İngilizce, Rusça, Almanca                     1\n",
            "Yok (Sessiz)                                  1\n",
            "İngilizce, Afrikanca                          1\n",
            "Name: count, dtype: int64\n",
            "\n",
            "Percentage of İngilizce: 74.55%\n"
          ]
        }
      ]
    },
    {
      "cell_type": "code",
      "source": [
        "df = pd.read_csv(\"/content/drive/MyDrive/AI_ETHICS/jsons/combined_movies_italian_v2.csv\")\n",
        "language_counts = df['language'].value_counts()\n",
        "\n",
        "print(language_counts)\n",
        "percentage_english = (language_counts['English'] + language_counts['Inglese']) / language_counts.sum() * 100\n",
        "print(f\"\\nPercentage of English: {format(percentage_english, '.2f')}%\")"
      ],
      "metadata": {
        "colab": {
          "base_uri": "https://localhost:8080/"
        },
        "id": "YsHKfJzF0Tfb",
        "outputId": "0b1373f3-b599-412a-9a0e-1cb07e9aa19c"
      },
      "execution_count": 10,
      "outputs": [
        {
          "output_type": "stream",
          "name": "stdout",
          "text": [
            "language\n",
            "Inglese                               160\n",
            "English                               153\n",
            "Italian                                90\n",
            "Italiano                               30\n",
            "Coreano                                13\n",
            "Indonesian                              9\n",
            "Spagnolo                                7\n",
            "Korean                                  7\n",
            "Giapponese                              7\n",
            "Japanese                                6\n",
            "Italiano, Inglese                       6\n",
            "Cantonese                               6\n",
            "Inglese, Tedesco, Polacco, Ebraico      6\n",
            "Francese                                5\n",
            "Russian                                 5\n",
            "Mandarin                                4\n",
            "Spanish                                 3\n",
            "Inglese, Giapponese, Francese           3\n",
            "Italiano, Tedesco                       3\n",
            "Silent                                  3\n",
            "English, French                         3\n",
            "Italiano, Tedesco, Inglese              3\n",
            "English, Japanese                       2\n",
            "Persiano                                2\n",
            "French                                  2\n",
            "English, Russian                        2\n",
            "Indonesian, English                     1\n",
            "Macedonian                              1\n",
            "English, Swedish                        1\n",
            "English, Afrikaans                      1\n",
            "German                                  1\n",
            "Swedish                                 1\n",
            "Danese                                  1\n",
            "Inglese, Sindarin                       1\n",
            "Inglese, Italiano                       1\n",
            "Name: count, dtype: int64\n",
            "\n",
            "Percentage of English: 57.01%\n"
          ]
        }
      ]
    },
    {
      "cell_type": "code",
      "source": [
        "df = pd.read_csv(\"/content/drive/MyDrive/AI_ETHICS/jsons/combined_movies_persian_v2.csv\")\n",
        "language_counts = df['language'].value_counts()\n",
        "\n",
        "print(language_counts)"
      ],
      "metadata": {
        "colab": {
          "base_uri": "https://localhost:8080/"
        },
        "id": "CQqLYKNZ0bAR",
        "outputId": "7763b99e-e55d-46e0-ed30-73fe39607dc8"
      },
      "execution_count": 11,
      "outputs": [
        {
          "output_type": "stream",
          "name": "stdout",
          "text": [
            "language\n",
            "English                                     309\n",
            "انگلیسی                                     127\n",
            "Japanese                                     17\n",
            "Korean                                       15\n",
            "ایتالیایی                                     9\n",
            "Spanish                                       7\n",
            "کره ای                                        6\n",
            "فرانسوی                                       5\n",
            "Russian                                       5\n",
            "Cantonese                                     5\n",
            "Indonesian                                    5\n",
            "ژاپنی                                         4\n",
            "French                                        4\n",
            "اسپانیایی                                     3\n",
            "English, Japanese, French                     2\n",
            "فارسی                                         2\n",
            "انگلیسی، فرانسوی                              2\n",
            "کره‌ای                                        2\n",
            "English, French, German                       1\n",
            "Russian (silent)                              1\n",
            "Silent                                        1\n",
            "English, French, German, Italian              1\n",
            "انگلیسی, ایتالیایی, فرانسوی                   1\n",
            "آلمانی، انگلیسی                               1\n",
            "Macedonian                                    1\n",
            "None (Silent)                                 1\n",
            "سوئدی                                         1\n",
            "Swedish                                       1\n",
            "Mandarin                                      1\n",
            "هندی                                          1\n",
            "آلمانی                                        1\n",
            "هلندی                                         1\n",
            "انگلیسی، عبری، لهستانی، رومانیایی، ارمنی      1\n",
            "English, Spanish, French                      1\n",
            "English, German, Hebrew, Polish               1\n",
            "English, Italian                              1\n",
            "بدون دیالوگ                                   1\n",
            "اندونزیایی، انگلیسی                           1\n",
            "انگلیسی، آلمانی                               1\n",
            "Name: count, dtype: int64\n"
          ]
        }
      ]
    },
    {
      "cell_type": "code",
      "source": [],
      "metadata": {
        "id": "XhnkqwTV0wSL"
      },
      "execution_count": null,
      "outputs": []
    }
  ]
}