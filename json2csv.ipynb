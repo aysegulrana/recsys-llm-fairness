{
  "nbformat": 4,
  "nbformat_minor": 0,
  "metadata": {
    "colab": {
      "provenance": []
    },
    "kernelspec": {
      "name": "python3",
      "display_name": "Python 3"
    },
    "language_info": {
      "name": "python"
    }
  },
  "cells": [
    {
      "cell_type": "code",
      "execution_count": 10,
      "metadata": {
        "colab": {
          "base_uri": "https://localhost:8080/"
        },
        "id": "n4csFJDNmhGd",
        "outputId": "9cc68881-1fba-48c3-d869-ee8d539c615a"
      },
      "outputs": [
        {
          "output_type": "stream",
          "name": "stdout",
          "text": [
            "Combined data written to combined_movies_turkish.csv\n"
          ]
        }
      ],
      "source": [
        "import json\n",
        "import csv\n",
        "import os\n",
        "\n",
        "# Folder path containing the all JSON files\n",
        "input_folder = '/content/drive/MyDrive/AI_ETHICS/jsons/turkish'\n",
        "output_file = 'combined_movies_turkish.csv' # change here for each language\n",
        "\n",
        "all_movies = []\n",
        "\n",
        "# Process each JSON file in the folder\n",
        "for filename in os.listdir(input_folder):\n",
        "    if filename.endswith('.json'):\n",
        "        with open(os.path.join(input_folder, filename), 'r', encoding='utf-8') as f:\n",
        "            #print(filename)\n",
        "            data = json.load(f)\n",
        "\n",
        "            if isinstance(data, dict) and 'recommendations' in data:\n",
        "                movies = data['recommendations']\n",
        "            elif isinstance(data, list):\n",
        "                movies = data\n",
        "            else:\n",
        "                continue  # Skip if format is unexpected\n",
        "\n",
        "            for movie in movies:\n",
        "                all_movies.append([\n",
        "                    movie.get('name', ''),\n",
        "                    movie.get('language', ''),\n",
        "                    movie.get('country', ''),\n",
        "                    movie.get('genre', '')\n",
        "                ])\n",
        "\n",
        "# Write to CSV\n",
        "with open(output_file, 'w', newline='', encoding='utf-8') as f:\n",
        "    writer = csv.writer(f)\n",
        "    writer.writerow(['name', 'language', 'country', 'genre'])  # headers\n",
        "    writer.writerows(all_movies)\n",
        "\n",
        "print(f\"Combined data written to {output_file}\")"
      ]
    },
    {
      "cell_type": "code",
      "source": [],
      "metadata": {
        "id": "x3TQ4l3WsS1T"
      },
      "execution_count": null,
      "outputs": []
    }
  ]
}