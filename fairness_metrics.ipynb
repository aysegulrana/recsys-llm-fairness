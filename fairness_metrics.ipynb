{
 "cells": [
  {
   "cell_type": "code",
   "execution_count": null,
   "metadata": {},
   "outputs": [],
   "source": [
    "import numpy as np"
   ]
  },
  {
   "cell_type": "code",
   "execution_count": null,
   "metadata": {
    "id": "E67lTa-KpR_c"
   },
   "outputs": [],
   "source": [
    "# FAIRNESS METRICS\n",
    "\n",
    "# Functions to calculate group fairness metrics\n",
    "# mask1 -> minority group , mask2 -> majority group\n",
    "\n",
    "\n",
    "def compute_statistical_parity(y_pred, mask1, mask2):\n",
    "    sp_minority = np.mean(y_pred[mask1])\n",
    "    sp_majority = np.mean(y_pred[mask2])\n",
    "    sp_diff = sp_minority - sp_majority\n",
    "    return sp_minority, sp_majority, sp_diff\n",
    "\n",
    "\n",
    "def compute_true_positive_rate(y_test, y_pred, mask1, mask2):\n",
    "    tpr_minority = np.mean((y_pred[mask1] == 1) & (y_test[mask1] == 1)) / np.mean(\n",
    "        y_test[mask1] == 1\n",
    "    )\n",
    "    tpr_majority = np.mean((y_pred[mask2] == 1) & (y_test[mask2] == 1)) / np.mean(\n",
    "        y_test[mask2] == 1\n",
    "    )\n",
    "    tpr_diff = tpr_minority - tpr_majority\n",
    "    return tpr_minority, tpr_majority, tpr_diff\n",
    "\n",
    "\n",
    "def compute_false_positive_rate(y_test, y_pred, mask1, mask2):\n",
    "    fpr_minority = np.mean((y_pred[mask1] == 1) & (y_test[mask1] == 0)) / np.mean(\n",
    "        y_test[mask1] == 0\n",
    "    )\n",
    "    fpr_majority = np.mean((y_pred[mask2] == 1) & (y_test[mask2] == 0)) / np.mean(\n",
    "        y_test[mask2] == 0\n",
    "    )\n",
    "    fpr_diff = fpr_minority - fpr_majority\n",
    "    return fpr_minority, fpr_majority, fpr_diff\n",
    "\n",
    "\n",
    "def compute_positive_predictive_value(y_test, y_pred, mask1, mask2):\n",
    "    ppv_minority = (\n",
    "        np.mean(y_test[mask1][y_pred[mask1] == 1]) if np.any(y_pred[mask1] == 1) else 0\n",
    "    )\n",
    "    ppv_majority = (\n",
    "        np.mean(y_test[mask2][y_pred[mask2] == 1]) if np.any(y_pred[mask2] == 1) else 0\n",
    "    )\n",
    "    ppv_diff = ppv_minority - ppv_majority\n",
    "    return ppv_minority, ppv_majority, ppv_diff\n",
    "\n",
    "\n",
    "def equalized_odds_difference_value(TPR_diff, FPR_diff):\n",
    "    equalized_odds_diff = max(abs(TPR_diff), abs(FPR_diff))\n",
    "    return equalized_odds_diff"
   ]
  }
 ],
 "metadata": {
  "colab": {
   "provenance": []
  },
  "kernelspec": {
   "display_name": "Python 3",
   "name": "python3"
  },
  "language_info": {
   "name": "python"
  }
 },
 "nbformat": 4,
 "nbformat_minor": 0
}
